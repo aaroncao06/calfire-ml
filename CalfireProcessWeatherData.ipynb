{
 "cells": [
  {
   "cell_type": "code",
   "execution_count": 5,
   "metadata": {},
   "outputs": [
    {
     "name": "stdout",
     "output_type": "stream",
     "text": [
      "            STATION                    NAME   LATITUDE   LONGITUDE  ELEVATION  \\\n",
      "0       USC00045091    LONG VALLEY 2, CA US  33.812990 -116.641930     2554.2   \n",
      "1       USC00045091    LONG VALLEY 2, CA US  33.812990 -116.641930     2554.2   \n",
      "2       USC00045091    LONG VALLEY 2, CA US  33.812990 -116.641930     2554.2   \n",
      "3       USC00045091    LONG VALLEY 2, CA US  33.812990 -116.641930     2554.2   \n",
      "4       USC00045091    LONG VALLEY 2, CA US  33.812990 -116.641930     2554.2   \n",
      "...             ...                     ...        ...         ...        ...   \n",
      "113093  US1CARV0054  RIVERSIDE 0.0 W, CA US  33.940402 -117.398175      264.9   \n",
      "113094  US1CARV0054  RIVERSIDE 0.0 W, CA US  33.940402 -117.398175      264.9   \n",
      "113095  US1CARV0054  RIVERSIDE 0.0 W, CA US  33.940402 -117.398175      264.9   \n",
      "113096  US1CARV0054  RIVERSIDE 0.0 W, CA US  33.940402 -117.398175      264.9   \n",
      "113097  US1CARV0054  RIVERSIDE 0.0 W, CA US  33.940402 -117.398175      264.9   \n",
      "\n",
      "              DATE  AWND  DAPR  MDPR  PGTM  ...  WT03  WT04  WT05  WT06  WT07  \\\n",
      "0       2017-01-01   NaN   NaN   NaN   NaN  ...   NaN   NaN   NaN   NaN   NaN   \n",
      "1       2017-01-02   NaN   NaN   NaN   NaN  ...   NaN   NaN   NaN   NaN   NaN   \n",
      "2       2017-01-03   NaN   NaN   NaN   NaN  ...   NaN   NaN   NaN   NaN   NaN   \n",
      "3       2017-01-04   NaN   NaN   NaN   NaN  ...   NaN   NaN   NaN   NaN   NaN   \n",
      "4       2017-01-05   NaN   NaN   NaN   NaN  ...   NaN   NaN   NaN   NaN   NaN   \n",
      "...            ...   ...   ...   ...   ...  ...   ...   ...   ...   ...   ...   \n",
      "113093  2018-11-11   NaN   NaN   NaN   NaN  ...   NaN   NaN   NaN   NaN   NaN   \n",
      "113094  2018-11-12   NaN   NaN   NaN   NaN  ...   NaN   NaN   NaN   NaN   NaN   \n",
      "113095  2018-11-13   NaN   NaN   NaN   NaN  ...   NaN   NaN   NaN   NaN   NaN   \n",
      "113096  2018-11-14   NaN   NaN   NaN   NaN  ...   NaN   NaN   NaN   NaN   NaN   \n",
      "113097  2018-11-15   NaN   NaN   NaN   NaN  ...   NaN   NaN   NaN   NaN   NaN   \n",
      "\n",
      "        WT08  WT10  WT11  WT13  WT16  \n",
      "0        NaN   NaN   NaN   NaN   NaN  \n",
      "1        NaN   NaN   NaN   NaN   NaN  \n",
      "2        NaN   NaN   NaN   NaN   NaN  \n",
      "3        NaN   NaN   NaN   NaN   NaN  \n",
      "4        NaN   NaN   NaN   NaN   NaN  \n",
      "...      ...   ...   ...   ...   ...  \n",
      "113093   NaN   NaN   NaN   NaN   NaN  \n",
      "113094   NaN   NaN   NaN   NaN   NaN  \n",
      "113095   NaN   NaN   NaN   NaN   NaN  \n",
      "113096   NaN   NaN   NaN   NaN   NaN  \n",
      "113097   NaN   NaN   NaN   NaN   NaN  \n",
      "\n",
      "[113098 rows x 35 columns]\n"
     ]
    }
   ],
   "source": [
    "import pandas as pd\n",
    "import numpy as np\n",
    "rsRawWeatherDf = pd.read_csv(r'/Users/aaroncao/Documents/California Wildfire Project/3346096.csv')\n",
    "print(rsRawWeatherDf)"
   ]
  },
  {
   "cell_type": "code",
   "execution_count": 8,
   "metadata": {},
   "outputs": [
    {
     "name": "stdout",
     "output_type": "stream",
     "text": [
      "STATION           0\n",
      "NAME              0\n",
      "LATITUDE          0\n",
      "LONGITUDE         0\n",
      "ELEVATION         0\n",
      "DATE              0\n",
      "AWND          98042\n",
      "DAPR         112659\n",
      "MDPR         112661\n",
      "PGTM         112789\n",
      "PRCP          24062\n",
      "SNOW          62466\n",
      "SNWD          90606\n",
      "TAVG          90175\n",
      "TMAX          46722\n",
      "TMIN          47079\n",
      "TOBS          92037\n",
      "WDF2          98108\n",
      "WDF5         100532\n",
      "WESD         113091\n",
      "WESF         113094\n",
      "WSF2          98107\n",
      "WSF5         100532\n",
      "WT01         110666\n",
      "WT02         112701\n",
      "WT03         112744\n",
      "WT04         113092\n",
      "WT05         113090\n",
      "WT06         113096\n",
      "WT07         113073\n",
      "WT08         110992\n",
      "WT10         113097\n",
      "WT11         112997\n",
      "WT13         113096\n",
      "WT16         113090\n",
      "dtype: int64\n",
      "113098\n"
     ]
    }
   ],
   "source": [
    "\n",
    "nan_count = rsRawWeatherDf.isna().sum()\n",
    "print(nan_count)\n",
    "print(rsRawWeatherDf.shape[0])"
   ]
  },
  {
   "cell_type": "code",
   "execution_count": null,
   "metadata": {},
   "outputs": [],
   "source": [
    "rsRawWeatherDf"
   ]
  },
  {
   "cell_type": "code",
   "execution_count": 14,
   "metadata": {},
   "outputs": [
    {
     "name": "stdout",
     "output_type": "stream",
     "text": [
      "STATION\n",
      "USW00093138    2557\n",
      "USC00042805    2557\n",
      "USC00044211    2557\n",
      "USW00053151    2557\n",
      "US1CARV0008    2557\n",
      "               ... \n",
      "US1CARV0064      36\n",
      "US1CARV0071      20\n",
      "US1CARV0006      13\n",
      "US1CARV0010       2\n",
      "US1CARV0078       1\n",
      "Length: 75, dtype: int64\n",
      "STATION\n",
      "USW00093138    2557\n",
      "USW00023158    2557\n",
      "USC00047470    2557\n",
      "USC00045502    2557\n",
      "USC00047813    2557\n",
      "               ... \n",
      "US1CARV0012     294\n",
      "US1CARV0072     251\n",
      "US1CARV0053     174\n",
      "US1CARV0031     147\n",
      "US1CARV0026     101\n",
      "Length: 68, dtype: int64\n"
     ]
    }
   ],
   "source": [
    "print(rsRawWeatherDf.value_counts('STATION'))\n",
    "groupedByStationDf = rsRawWeatherDf.groupby('STATION')\n",
    "for group_name, df_group in groupedByStationDf:\n",
    "    if len(df_group)<100:\n",
    "        rsRawWeatherDf = rsRawWeatherDf[rsRawWeatherDf['STATION']!=group_name]\n",
    "print(rsRawWeatherDf.value_counts('STATION'))"
   ]
  }
 ],
 "metadata": {
  "kernelspec": {
   "display_name": "base",
   "language": "python",
   "name": "python3"
  },
  "language_info": {
   "codemirror_mode": {
    "name": "ipython",
    "version": 3
   },
   "file_extension": ".py",
   "mimetype": "text/x-python",
   "name": "python",
   "nbconvert_exporter": "python",
   "pygments_lexer": "ipython3",
   "version": "3.9.13"
  },
  "orig_nbformat": 4
 },
 "nbformat": 4,
 "nbformat_minor": 2
}
